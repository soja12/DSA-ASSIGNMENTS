{
  "nbformat": 4,
  "nbformat_minor": 0,
  "metadata": {
    "colab": {
      "provenance": []
    },
    "kernelspec": {
      "name": "python3",
      "display_name": "Python 3"
    },
    "language_info": {
      "name": "python"
    }
  },
  "cells": [
    {
      "cell_type": "markdown",
      "source": [
        "*Python Challenge 1 : *\n",
        "\n",
        "You are given the firstname and lastname of a person on two different lines. Your task is to read them and print the following:\n",
        "\n",
        "output example : Hello Albert Einsteen! You just delved into python."
      ],
      "metadata": {
        "id": "E-x7xCF8B6Ea"
      }
    },
    {
      "cell_type": "code",
      "source": [
        "first_name = \"Albert\"\n",
        "last_name = \"Einsteen\"\n",
        "print(\"Hello\",first_name,last_name +\"!\",\"You just delved into python.\")"
      ],
      "metadata": {
        "colab": {
          "base_uri": "https://localhost:8080/"
        },
        "id": "IkC2eYEXB8UT",
        "outputId": "083dc968-353a-404e-d5b6-c65363a0ecfa"
      },
      "execution_count": null,
      "outputs": [
        {
          "output_type": "stream",
          "name": "stdout",
          "text": [
            "Hello Albert Einsteen! You just delved into python.\n"
          ]
        }
      ]
    },
    {
      "cell_type": "markdown",
      "source": [
        "*Python Challenge 2 : *\n",
        "Given an integer n, perform the following conditional actions:\n",
        "\n",
        "If  n is odd, print Weird\n",
        "If  n is even and in the inclusive range of  2 to 5 , print Not Weird\n",
        "If  n is even and in the inclusive range of 6 to 20 , print Weird\n",
        "If  n is even and greater than 20, print Not Weird"
      ],
      "metadata": {
        "id": "WDDgFYBeFUFN"
      }
    },
    {
      "cell_type": "markdown",
      "source": [],
      "metadata": {
        "id": "WpgbVca9FQrv"
      }
    },
    {
      "cell_type": "code",
      "source": [
        "def check_weirdness(n):\n",
        "    if n % 2 != 0:\n",
        "        print(\"Weird\")\n",
        "    else:\n",
        "        if n in range(2, 6):\n",
        "            print(\"Not Weird\")\n",
        "        elif n in range(6, 21):\n",
        "            print(\"Weird\")\n",
        "        else:\n",
        "            print(\"Not Weird\")\n",
        "\n",
        "check_weirdness(3)\n",
        "check_weirdness(4)\n",
        "check_weirdness(6)\n",
        "check_weirdness(22)"
      ],
      "metadata": {
        "colab": {
          "base_uri": "https://localhost:8080/"
        },
        "id": "hbNjfBHOFRtn",
        "outputId": "b94294e0-6de2-4a23-9e75-ff7b1bc55a07"
      },
      "execution_count": null,
      "outputs": [
        {
          "output_type": "stream",
          "name": "stdout",
          "text": [
            "Weird\n",
            "Not Weird\n",
            "Weird\n",
            "Not Weird\n"
          ]
        }
      ]
    },
    {
      "cell_type": "markdown",
      "source": [
        "3.Write a Python program which accepts the radius of a circle from the user\n",
        "and compute the area.\n",
        "Sample input: Enter the radius: 3\n",
        "Sample output: Area of Circle is 28.59999999999"
      ],
      "metadata": {
        "id": "g8V5DEidGnyl"
      }
    },
    {
      "cell_type": "code",
      "source": [
        "radius = float(input(\"Enter the radius of circle \\n\"))\n",
        "area = 3.14*radius*radius\n",
        "print(\"Area of the circle is\",area)"
      ],
      "metadata": {
        "colab": {
          "base_uri": "https://localhost:8080/"
        },
        "id": "LIrNNa0mGo4Z",
        "outputId": "6740e75b-0864-4d3d-db90-ed4633191c29"
      },
      "execution_count": null,
      "outputs": [
        {
          "output_type": "stream",
          "name": "stdout",
          "text": [
            "Enter the radius of circle \n",
            "3\n",
            "Area of the circle is 28.259999999999998\n"
          ]
        }
      ]
    },
    {
      "cell_type": "markdown",
      "source": [
        "4.Write a Python Program to accept the details of a student like name, roll\n",
        "number and mark and display it.\n",
        "Sample input: Enter the name: Anisha\n",
        "Enter the roll number: 21\n",
        "Enter the mark: 78\n",
        "Sample output: Name: Anisha\n",
        "Roll No: 21\n",
        "Mark: 78"
      ],
      "metadata": {
        "id": "f0FtGKQuHtYH"
      }
    },
    {
      "cell_type": "code",
      "source": [
        "name = input(\"Enter the name:\\n\")\n",
        "roll_no = input(\"Enter the roll number:\\n\")\n",
        "mark = input(\"Enter the  mark:\\n\")\n",
        "print(\"Name:\"+name,\"Roll No:\"+roll_no,\"Mark\"+mark)"
      ],
      "metadata": {
        "colab": {
          "base_uri": "https://localhost:8080/"
        },
        "id": "WGLr3Qs6HyAq",
        "outputId": "bbccdcda-a406-4b22-93e1-49c30bfeaddf"
      },
      "execution_count": null,
      "outputs": [
        {
          "output_type": "stream",
          "name": "stdout",
          "text": [
            "Enter the name:\n",
            "Anisha\n",
            "Enter the roll number:\n",
            "21\n",
            "Enter the  mark:\n",
            "78\n",
            "Name:Anisha Roll No:21 Mark78\n"
          ]
        }
      ]
    },
    {
      "cell_type": "markdown",
      "source": [
        "5.Write a Python program to get the largest number from a list.\n",
        "Sample input: 12, 3, 47, 10\n",
        "Sample output: 47 is the largest number"
      ],
      "metadata": {
        "id": "ZqDaen_dI1di"
      }
    },
    {
      "cell_type": "code",
      "source": [
        "list = (12, 3, 47, 10 )\n",
        "largest_number = max(list)\n",
        "print(f\"{largest_number} is the largest number\")\n"
      ],
      "metadata": {
        "colab": {
          "base_uri": "https://localhost:8080/"
        },
        "id": "ifdoNnLxI6Kp",
        "outputId": "e86946e7-d508-4b42-aa3b-2636784626d6"
      },
      "execution_count": null,
      "outputs": [
        {
          "output_type": "stream",
          "name": "stdout",
          "text": [
            "47 is the largest number\n"
          ]
        }
      ]
    },
    {
      "cell_type": "markdown",
      "source": [
        "6.Given a range of first 10 numbers, write a Python program to iterate from\n",
        "start number to the end number and print the sum of the current number\n",
        "and previous number.\n",
        "Sample input: 1….10\n",
        "Sample output: Current Number 1 Previous Number 0 Sum: 1 Current\n",
        "Number 2 Previous Number 1 Sum: 3 Current Number 3 Previous\n",
        "Number 2 Sum: 5… Current Number 10 Previous Number 9 Sum: 19"
      ],
      "metadata": {
        "id": "w6oz1S1hKhta"
      }
    },
    {
      "cell_type": "code",
      "source": [
        "\n",
        "previous_number = 0\n",
        "for current_number in range(1, 11):\n",
        "\n",
        "    current_sum = current_number + previous_number\n",
        "    print(f\"Current Number: {current_number}, Previous Number: {previous_number}, Sum: {current_sum}\")\n",
        "    previous_number = current_number\n",
        "\n",
        "\n"
      ],
      "metadata": {
        "colab": {
          "base_uri": "https://localhost:8080/"
        },
        "id": "p5itiOcEKmtc",
        "outputId": "7fdb1ec3-012d-4b7f-c5d9-05bf2aa3cafa"
      },
      "execution_count": 17,
      "outputs": [
        {
          "output_type": "stream",
          "name": "stdout",
          "text": [
            "Current Number: 1, Previous Number: 0, Sum: 1\n",
            "Current Number: 2, Previous Number: 1, Sum: 3\n",
            "Current Number: 3, Previous Number: 2, Sum: 5\n",
            "Current Number: 4, Previous Number: 3, Sum: 7\n",
            "Current Number: 5, Previous Number: 4, Sum: 9\n",
            "Current Number: 6, Previous Number: 5, Sum: 11\n",
            "Current Number: 7, Previous Number: 6, Sum: 13\n",
            "Current Number: 8, Previous Number: 7, Sum: 15\n",
            "Current Number: 9, Previous Number: 8, Sum: 17\n",
            "Current Number: 10, Previous Number: 9, Sum: 19\n"
          ]
        }
      ]
    },
    {
      "cell_type": "markdown",
      "source": [
        "7.Write a Python program to print only those numbers which are divisible\n",
        "of 5.\n",
        "Sample input: 10, 20,33,46,55 Sample output: 10, 20, 55\n"
      ],
      "metadata": {
        "id": "w1BMOihaMW_p"
      }
    },
    {
      "cell_type": "code",
      "source": [
        "num = (10, 20,33,46,55)\n",
        "for number in num:\n",
        "  if number % 5 == 0:\n",
        "    print(number, end=\", \")\n",
        "\n",
        "\n",
        "\n",
        "\n",
        "\n"
      ],
      "metadata": {
        "colab": {
          "base_uri": "https://localhost:8080/"
        },
        "id": "BzRADWOrMfE8",
        "outputId": "cfc56b45-1448-42c0-a2d0-ce7281bab3c7"
      },
      "execution_count": null,
      "outputs": [
        {
          "output_type": "stream",
          "name": "stdout",
          "text": [
            "10, 20, 55, "
          ]
        }
      ]
    },
    {
      "cell_type": "markdown",
      "source": [
        "8.Write a Python program to check whether a number is prime or not.\n",
        "Sample input: Enter the number: 3\n",
        "Sample output: 3 is a prime number"
      ],
      "metadata": {
        "id": "evDTwWBwCWhy"
      }
    },
    {
      "cell_type": "code",
      "source": [
        "def is_prime(num):\n",
        "    if num <= 1:\n",
        "        return False\n",
        "    elif num <= 3:\n",
        "        return True\n",
        "    elif num % 2 == 0 or num % 3 == 0:\n",
        "        return False\n",
        "    i = 5\n",
        "    while i * i <= num:\n",
        "        if num % i == 0 or num % (i + 2) == 0:\n",
        "            return False\n",
        "        i += 6\n",
        "    return True\n",
        "\n",
        "def main():\n",
        "    try:\n",
        "        num = int(input(\"Enter the number: \"))\n",
        "        if is_prime(num):\n",
        "            print(num, \"is a prime number.\")\n",
        "        else:\n",
        "            print(num, \"is not a prime number.\")\n",
        "    except ValueError:\n",
        "        print(\"Invalid input. Please enter a valid integer.\")\n",
        "\n",
        "if __name__ == \"__main__\":\n",
        "    main()\n"
      ],
      "metadata": {
        "colab": {
          "base_uri": "https://localhost:8080/"
        },
        "id": "Z5Uotca5CdlC",
        "outputId": "e9e56793-a898-4816-c3cc-941c84c1d9b3"
      },
      "execution_count": null,
      "outputs": [
        {
          "output_type": "stream",
          "name": "stdout",
          "text": [
            "Enter the number: 3\n",
            "3 is a prime number.\n"
          ]
        }
      ]
    },
    {
      "cell_type": "markdown",
      "source": [
        "9.Write a Python program to reverse a list using for loop.\n",
        "Sample input: 10,40,30,70\n",
        "Sample output: 70,30,40,10"
      ],
      "metadata": {
        "id": "FZXEVXAKOBS_"
      }
    },
    {
      "cell_type": "code",
      "source": [
        "def reverse_list(lst):\n",
        "    reversed_lst = []\n",
        "    for i in range(len(lst) - 1, -1, -1):\n",
        "        reversed_lst.append(lst[i])\n",
        "    return reversed_lst\n",
        "\n",
        "def main():\n",
        "    try:\n",
        "        input_str = input(\"Enter the list of numbers separated by commas: \")\n",
        "        input_list = [int(x) for x in input_str.split(\",\")]\n",
        "        reversed_list = reverse_list(input_list)\n",
        "        print(\"Reversed list:\", \",\".join(map(str, reversed_list)))\n",
        "    except ValueError:\n",
        "        print(\"Invalid input. Please enter numbers separated by commas.\")\n",
        "\n",
        "if __name__ == \"__main__\":\n",
        "    main()\n",
        "\n",
        "\n",
        "\n",
        "\n",
        "\n"
      ],
      "metadata": {
        "colab": {
          "base_uri": "https://localhost:8080/"
        },
        "id": "FEzsB5jMDWwb",
        "outputId": "917f03c9-1b72-4b8e-8fcc-6c92eff67ec4"
      },
      "execution_count": null,
      "outputs": [
        {
          "output_type": "stream",
          "name": "stdout",
          "text": [
            "Enter the list of numbers separated by commas: 10,40,30,70\n",
            "Reversed list: 70,30,40,10\n"
          ]
        }
      ]
    },
    {
      "cell_type": "markdown",
      "source": [
        "10.Write a Python program to print the following pattern.\n",
        "*\n",
        "**\n",
        "***\n",
        "****"
      ],
      "metadata": {
        "id": "1VK07pQNFMi5"
      }
    },
    {
      "cell_type": "code",
      "source": [
        "def print_pattern(n):\n",
        "    for i in range(1, n + 1):\n",
        "        print(\"*\" * i)\n",
        "\n",
        "def main():\n",
        "    try:\n",
        "        n = int(input(\"Enter the number of rows for the pattern: \"))\n",
        "        print(\"Pattern:\")\n",
        "        print_pattern(n)\n",
        "    except ValueError:\n",
        "        print(\"Invalid input. Please enter a valid integer.\")\n",
        "\n",
        "if __name__ == \"__main__\":\n",
        "    main()\n"
      ],
      "metadata": {
        "colab": {
          "base_uri": "https://localhost:8080/"
        },
        "id": "SXOcTzmAFUMx",
        "outputId": "d8b70a54-56ce-4a2c-e1fa-c073bfb9e913"
      },
      "execution_count": null,
      "outputs": [
        {
          "output_type": "stream",
          "name": "stdout",
          "text": [
            "Enter the number of rows for the pattern: 3\n",
            "Pattern:\n",
            "*\n",
            "**\n",
            "***\n"
          ]
        }
      ]
    },
    {
      "cell_type": "markdown",
      "source": [
        "11.Write a Python program to find the maximum of three numbers\n",
        "Sample input: 34,12,7\n",
        "Sample output: 34\n"
      ],
      "metadata": {
        "id": "zMfqtijFFWuP"
      }
    },
    {
      "cell_type": "code",
      "source": [
        "a = 34\n",
        "b = 12\n",
        "c = 7\n",
        "if a>b and a>c:\n",
        "  print(a)\n",
        "elif b>c and b>a:\n",
        "  print(b)\n",
        "else:\n",
        "  print(c)\n",
        "\n",
        "\n"
      ],
      "metadata": {
        "colab": {
          "base_uri": "https://localhost:8080/"
        },
        "id": "H5DpdrX5Ffx9",
        "outputId": "de759597-ae64-428c-fcf3-ecc8ea69aaef"
      },
      "execution_count": null,
      "outputs": [
        {
          "output_type": "stream",
          "name": "stdout",
          "text": [
            "34\n"
          ]
        }
      ]
    },
    {
      "cell_type": "code",
      "source": [
        "def find_maximum(a, b, c):\n",
        "    return max(a, b, c)\n",
        "\n",
        "def main():\n",
        "    try:\n",
        "        numbers = input(\"Enter three numbers : \").split(\",\")\n",
        "        num1, num2, num3 = map(int, numbers)\n",
        "        maximum = find_maximum(num1, num2, num3)\n",
        "        print(\"Maximum of the three numbers is:\", maximum)\n",
        "    except ValueError:\n",
        "        print(\"Invalid input. Please enter three valid numbers \\.\")\n",
        "\n",
        "if __name__ == \"__main__\":\n",
        "    main()\n"
      ],
      "metadata": {
        "colab": {
          "base_uri": "https://localhost:8080/"
        },
        "id": "03y8S3qwHRaz",
        "outputId": "3ca2bb98-6aa8-4159-af84-9c8162845586"
      },
      "execution_count": 16,
      "outputs": [
        {
          "output_type": "stream",
          "name": "stdout",
          "text": [
            "Enter three numbers : 34,12,7\n",
            "Maximum of the three numbers is: 34\n"
          ]
        }
      ]
    },
    {
      "cell_type": "markdown",
      "source": [
        "12.Write a Python program to construct the following pattern, using a\n",
        "nested for loop.\n",
        "*\n",
        "**\n",
        "***\n",
        "****\n",
        "*****\n",
        "****\n",
        "***\n",
        "**\n",
        "*"
      ],
      "metadata": {
        "id": "IBXZ4HFNHYJR"
      }
    },
    {
      "cell_type": "code",
      "source": [
        "def print_pattern(n):\n",
        "\n",
        "    for i in range(1, n + 1):\n",
        "        print(\"*\" * i)\n",
        "\n",
        "\n",
        "    for i in range(n - 1, 0, -1):\n",
        "        print(\"*\" * i)\n",
        "\n",
        "def main():\n",
        "    try:\n",
        "        n = int(input(\"Enter the number of rows for the pattern: \"))\n",
        "        print(\"Pattern:\")\n",
        "        print_pattern(n)\n",
        "    except ValueError:\n",
        "        print(\"Invalid input. Please enter a valid integer.\")\n",
        "\n",
        "if __name__ == \"__main__\":\n",
        "    main()\n"
      ],
      "metadata": {
        "colab": {
          "base_uri": "https://localhost:8080/"
        },
        "id": "aiX6xQ5ZHkvL",
        "outputId": "83acd043-73b1-4d3c-dab7-4a2723180392"
      },
      "execution_count": null,
      "outputs": [
        {
          "output_type": "stream",
          "name": "stdout",
          "text": [
            "Enter the number of rows for the pattern: 10\n",
            "Pattern:\n",
            "*\n",
            "**\n",
            "***\n",
            "****\n",
            "*****\n",
            "******\n",
            "*******\n",
            "********\n",
            "*********\n",
            "**********\n",
            "*********\n",
            "********\n",
            "*******\n",
            "******\n",
            "*****\n",
            "****\n",
            "***\n",
            "**\n",
            "*\n"
          ]
        }
      ]
    },
    {
      "cell_type": "markdown",
      "source": [
        "13. Write a Python program to accept a string value from the user and display\n",
        "the count of each character in that string. Sample input: Enter a string\n",
        "value: assembly Sample output: a=1, s=2, e=1, m=1, b=1, l=1, y=1"
      ],
      "metadata": {
        "id": "ochWJnQEXLWC"
      }
    },
    {
      "cell_type": "code",
      "source": [
        "string = input(\"Enter a string value: \")\n",
        "count = {}\n",
        "\n",
        "\n",
        "for char in string:\n",
        "    if char in count:\n",
        "        count[char] += 1\n",
        "    else:\n",
        "        count[char] = 1\n",
        "\n",
        "\n",
        "print(\"Sample output:\")\n",
        "for char, count in count.items():\n",
        "    print(f\"{char}={count}\", end=\", \")\n"
      ],
      "metadata": {
        "colab": {
          "base_uri": "https://localhost:8080/"
        },
        "id": "Opqyb1RrapU8",
        "outputId": "f8380fac-ae56-4ee8-d424-8911a384dc86"
      },
      "execution_count": null,
      "outputs": [
        {
          "output_type": "stream",
          "name": "stdout",
          "text": [
            "Enter a string value: character\n",
            "Sample output:\n",
            "c=2, h=1, a=2, r=2, t=1, e=1, "
          ]
        }
      ]
    },
    {
      "cell_type": "markdown",
      "source": [
        "14.Write a Python function to find the maximum of three numbers Sample\n",
        "input: 34,12,7 Sample output: 34"
      ],
      "metadata": {
        "id": "E-YLwk0vbSu_"
      }
    },
    {
      "cell_type": "code",
      "source": [
        "def max_num(num1, num2, num3):\n",
        "  max_number =max(num1,num2,num3)\n",
        "  return max_number\n",
        "\n",
        "input_str = input(\"Enter three numbers: \")\n",
        "num1, num2, num3 = map(int, input_str.split(','))\n",
        "maximum = max_num(num1,num2,num3)\n",
        "print(\"Maximum of numbers:\",maximum)\n"
      ],
      "metadata": {
        "colab": {
          "base_uri": "https://localhost:8080/"
        },
        "id": "3DX8Kc-Eg0j-",
        "outputId": "1c009048-e3af-4094-f19a-782c5f518c9a"
      },
      "execution_count": 15,
      "outputs": [
        {
          "output_type": "stream",
          "name": "stdout",
          "text": [
            "Enter three numbers: 34,12,7\n",
            "Maximum of numbers: 34\n"
          ]
        }
      ]
    },
    {
      "cell_type": "markdown",
      "source": [
        "15.Write a Python function called exponent(base,exp) that returns an\n",
        "integer value of base raises to the power of exp. Sample input: Enter the\n",
        "base: 2 Enter the exponent: 3 Sample output: 8"
      ],
      "metadata": {
        "id": "rSco58VtbvBI"
      }
    },
    {
      "cell_type": "code",
      "source": [
        "def exponent(base, exp):\n",
        "    result = base ** exp\n",
        "    return result\n",
        "\n",
        "\n",
        "base = int(input(\"Enter the base: \"))\n",
        "exp = int(input(\"Enter the exponent: \"))\n",
        "\n",
        "result = exponent(base, exp)\n",
        "print(\"Result:\", result)\n",
        "\n"
      ],
      "metadata": {
        "colab": {
          "base_uri": "https://localhost:8080/"
        },
        "id": "zrJ__h-_bwQb",
        "outputId": "cab50321-5b71-4741-e22a-23a40e7f8313"
      },
      "execution_count": null,
      "outputs": [
        {
          "output_type": "stream",
          "name": "stdout",
          "text": [
            "Enter the base: 2\n",
            "Enter the exponent: 3\n",
            "Result: 8\n"
          ]
        }
      ]
    },
    {
      "cell_type": "markdown",
      "source": [
        "16.Write a Python function that takes a positive integer and returns the sum\n",
        "of the cube of all the positive integers smaller than the specified number.\n",
        "Sample input: 4 Sample output: 36"
      ],
      "metadata": {
        "id": "ptvgKR-reO0-"
      }
    },
    {
      "cell_type": "code",
      "source": [
        "def sum(n):\n",
        "\n",
        "  number=0\n",
        "  for i in range(1,n):\n",
        "    if i%2 ==0:\n",
        "      number = i**3\n",
        "\n",
        "      return number\n",
        "\n",
        "num = int(input(\"Enter a number: \"))\n",
        "result = sum(num)\n",
        "print(\"sum of cubes\",result)\n",
        "\n"
      ],
      "metadata": {
        "colab": {
          "base_uri": "https://localhost:8080/"
        },
        "id": "8HejLZZueQcV",
        "outputId": "270021e1-c967-42fa-9694-7ef58d973009"
      },
      "execution_count": null,
      "outputs": [
        {
          "output_type": "stream",
          "name": "stdout",
          "text": [
            "Enter a number: 3\n",
            "sum of cubes 8\n"
          ]
        }
      ]
    },
    {
      "cell_type": "markdown",
      "source": [
        "17.Write a Python program which iterates from 1 to 10. For multiples of 2,\n",
        "print “Fizz” instead of the number and for the multiples of 5, print “Buzz”.\n",
        "For numbers which are multiples of both 2 and 5, print “FizzBuzz”.\n",
        "Sample input: numbers from 1 to 10 Sample output: 1 Fizz 3 Fizz Buzz\n",
        "Fizz 7 Fizz 9 FizzBuzz"
      ],
      "metadata": {
        "id": "DfAY9lrakAjJ"
      }
    },
    {
      "cell_type": "code",
      "source": [
        "\n",
        "for i in range(1,11):\n",
        "  if i%2 == 0:\n",
        "    print(\"Fizz\")\n",
        "  elif i%5 ==0:\n",
        "    print(\"Buzz\")\n",
        "  elif i%2 == 0 and i%5 ==0:\n",
        "    print(\"FizzBuzz\")\n",
        "  else:\n",
        "    print(i)\n",
        "\n"
      ],
      "metadata": {
        "colab": {
          "base_uri": "https://localhost:8080/"
        },
        "id": "QU_6CMpMkFtc",
        "outputId": "c4e4ae99-94af-4ccb-e244-653069e41021"
      },
      "execution_count": null,
      "outputs": [
        {
          "output_type": "stream",
          "name": "stdout",
          "text": [
            "1\n",
            "Fizz\n",
            "3\n",
            "Fizz\n",
            "Buzz\n",
            "Fizz\n",
            "7\n",
            "Fizz\n",
            "9\n",
            "Fizz\n"
          ]
        }
      ]
    },
    {
      "cell_type": "markdown",
      "source": [
        "18.Write a Python program to find the most frequent item in a list of\n",
        "numbers. Sample input: 2, 3, 4, 2, 5, 2 Sample output: 2"
      ],
      "metadata": {
        "id": "hDNeny9rlhfi"
      }
    },
    {
      "cell_type": "code",
      "source": [
        "def frequent_no(numbers):\n",
        "  frequent_num = {}\n",
        "\n",
        "  for num in numbers:\n",
        "    if num in frequent_num:\n",
        "      frequent_num[num] +=1\n",
        "    else:\n",
        "      frequent_num[num] =1\n",
        "\n",
        "  max_frequency = max(frequent_num .values())\n",
        "  frequent_item = [num for num,freq in frequent_num.items() if freq ==max_frequency]\n",
        "  return frequent_item\n",
        "\n",
        "numbers = input(\"Enter a list of numbers separated by commas: \").split(',')\n",
        "numbers = [int(num) for num in numbers]\n",
        "result = frequent_no(numbers)\n",
        "print(\"Most frequent items: \",result)\n",
        "\n",
        "\n",
        "\n",
        "\n"
      ],
      "metadata": {
        "id": "SFKhoDV6mGED",
        "colab": {
          "base_uri": "https://localhost:8080/"
        },
        "outputId": "5a0017a4-e3c7-44dc-e8d3-377de49a9f5d"
      },
      "execution_count": 11,
      "outputs": [
        {
          "output_type": "stream",
          "name": "stdout",
          "text": [
            "Enter a list of numbers separated by commas: 2,3,4,2,5,2\n",
            "Most frequent items:  [2]\n"
          ]
        }
      ]
    },
    {
      "cell_type": "markdown",
      "source": [
        "19.Write a Python program to find the sum of squares of the numbers in a\n",
        "list. Sample input: 2,1,3,1 Sample output: 15"
      ],
      "metadata": {
        "id": "1E2i-8AGmGYI"
      }
    },
    {
      "cell_type": "code",
      "source": [
        "def sum_of_squares(n):\n",
        "  squares = sum(num** 2 for num in n)\n",
        "  return squares\n",
        "\n",
        "\n",
        "number = input(\"Enter numbers by commas: \").split(\",\")\n",
        "number = list(map(int, number))\n",
        "result = sum_of_squares(number)\n",
        "\n",
        "print(\"Sum of numbers:\",result)"
      ],
      "metadata": {
        "id": "wtIFAqdbmNX2",
        "colab": {
          "base_uri": "https://localhost:8080/"
        },
        "outputId": "c299d701-8ae9-443e-8119-08f0ab5753bd"
      },
      "execution_count": 8,
      "outputs": [
        {
          "output_type": "stream",
          "name": "stdout",
          "text": [
            "Enter numbers by commas: 2,1,3,1\n",
            "Sum of numbers: 15\n"
          ]
        }
      ]
    },
    {
      "cell_type": "markdown",
      "source": [
        "20.Write a Python program using for loop that will iterate from 1 to 15. For\n",
        "each iteration, check if the current number is odd or even, and display the\n",
        "message to the screen as odd or even. Sample input: 1….15 Sample\n",
        "output: 1-odd 2-even …. 15-odd\n"
      ],
      "metadata": {
        "id": "fxGrFjaiLzYY"
      }
    },
    {
      "cell_type": "code",
      "source": [
        "for i in range(1,16):\n",
        "  if i%2 == 0:\n",
        "    print(f\"{i} is even\")\n",
        "  else:\n",
        "    print(f\"{i} is odd\")\n",
        ""
      ],
      "metadata": {
        "colab": {
          "base_uri": "https://localhost:8080/"
        },
        "id": "fmXGOUMMMPUQ",
        "outputId": "2f2a3d4c-941d-40d1-ff55-4733670fb33b"
      },
      "execution_count": 23,
      "outputs": [
        {
          "output_type": "stream",
          "name": "stdout",
          "text": [
            "1 is odd\n",
            "2 is even\n",
            "3 is odd\n",
            "4 is even\n",
            "5 is odd\n",
            "6 is even\n",
            "7 is odd\n",
            "8 is even\n",
            "9 is odd\n",
            "10 is even\n",
            "11 is odd\n",
            "12 is even\n",
            "13 is odd\n",
            "14 is even\n",
            "15 is odd\n"
          ]
        }
      ]
    },
    {
      "cell_type": "markdown",
      "source": [
        "21.Write a Python program to convert temperatures to and from Celsius\n",
        "Fahrenheit. [Formula: c/5=f-32/9 where c=temperature in Celsius and f=\n",
        "temperature in Fahrenheit.] Sample input: Temperature in Fahrenheit\n",
        "=41 Sample output: Temperature in Celsius =5"
      ],
      "metadata": {
        "id": "RnBivhrANKAb"
      }
    },
    {
      "cell_type": "code",
      "source": [
        "def fahrenheit_celcius(f):\n",
        "    celcius = (f-32)*5/9\n",
        "    return celcius\n",
        "\n",
        "def celcius_fahrenheit(celcius):\n",
        "    f = (celcius*9/5)+32\n",
        "    return f\n",
        "\n",
        "temperature_fahrenheit =float(input(\"Temperature in fahrenheit: \"))\n",
        "temperature_celcius = fahrenheit_celcius(temperature_fahrenheit)\n",
        "print(\"Temperature in Celcius: \",temperature_celcius)\n",
        "\n",
        "\n",
        "\n"
      ],
      "metadata": {
        "colab": {
          "base_uri": "https://localhost:8080/"
        },
        "id": "ai-IIuTGNN8b",
        "outputId": "364e0aeb-f42e-4909-f003-dd57350f3d33"
      },
      "execution_count": 25,
      "outputs": [
        {
          "output_type": "stream",
          "name": "stdout",
          "text": [
            "Temperature in fahrenheit: 41\n",
            "Temperature in Celcius:  5.0\n"
          ]
        }
      ]
    },
    {
      "cell_type": "markdown",
      "source": [
        "22. Write a Python function to calculate the factorial of a number (a\n",
        "nonnegative integer). The function accepts the number as an argument.\n",
        "Sample input: 3 Sample output: 6"
      ],
      "metadata": {
        "id": "EgmJdgsxS-GS"
      }
    },
    {
      "cell_type": "code",
      "source": [
        "def factorial(n):\n",
        "    if n == 0:\n",
        "        return 1\n",
        "    else:\n",
        "        return n * factorial(n - 1)\n",
        "\n",
        "\n",
        "number = int(input(\"Enter a non-negative integer: \"))\n",
        "result = factorial(number)\n",
        "print(\"Factorial:\", result)\n"
      ],
      "metadata": {
        "colab": {
          "base_uri": "https://localhost:8080/"
        },
        "id": "uTsvLmE8TJu_",
        "outputId": "f1e90fc5-781f-4850-f6d1-ca58c32a0630"
      },
      "execution_count": 26,
      "outputs": [
        {
          "output_type": "stream",
          "name": "stdout",
          "text": [
            "Enter a non-negative integer: 3\n",
            "Factorial: 6\n"
          ]
        }
      ]
    }
  ]
}